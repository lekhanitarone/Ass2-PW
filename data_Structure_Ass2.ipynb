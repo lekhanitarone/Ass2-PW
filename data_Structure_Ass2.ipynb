{
  "nbformat": 4,
  "nbformat_minor": 0,
  "metadata": {
    "colab": {
      "provenance": []
    },
    "kernelspec": {
      "name": "python3",
      "display_name": "Python 3"
    },
    "language_info": {
      "name": "python"
    }
  },
  "cells": [
    {
      "cell_type": "code",
      "execution_count": null,
      "metadata": {
        "id": "q7GRzvX82tm2"
      },
      "outputs": [],
      "source": []
    },
    {
      "cell_type": "markdown",
      "source": [
        "\n",
        "\n",
        "**1. What are data structures, and why are they important?**\n",
        ">Data structures are ways of organizing and storing data for efficient access and modification.\n",
        "They are crucial for writing efficient programs and solving complex problems effectively.\n",
        "Examples include lists, stacks, queues, trees, and graphs.\n",
        "\n",
        "---\n",
        "\n",
        "**2. Explain the difference between mutable and immutable data types with examples.**\n",
        ">Mutable types can be changed after creation (e.g., `list`, `dict`).\n",
        "Immutable types cannot be modified (e.g., `tuple`, `str`).\n",
        "Example: `list1 = [1, 2]` → can append; `tuple1 = (1, 2)` → cannot change values.\n",
        "\n",
        "---\n",
        "\n",
        "**3. What are the main differences between lists and tuples in Python?**\n",
        ">Lists are mutable, while tuples are immutable.\n",
        "Lists use square brackets `[ ]`, tuples use parentheses `( )`.\n",
        "Tuples are faster and more memory-efficient than lists.\n",
        "\n",
        "---\n",
        "\n",
        "**4. Describe how dictionaries store data.**\n",
        ">Dictionaries store data as key-value pairs.\n",
        "Each key must be unique and is hashed to access its value efficiently.\n",
        "Example: `{\"name\": \"Alex\", \"age\": 25}`\n",
        "\n",
        "---\n",
        "\n",
        "**5. Why might you use a set instead of a list in Python?**\n",
        ">Sets automatically remove duplicate values and offer faster membership checks.\n",
        "Use sets when you need uniqueness and don't care about order.\n",
        "Example: `set([1, 2, 2, 3])` results in `{1, 2, 3}`.\n",
        "\n",
        "---\n",
        "\n",
        "**6. What is a string in Python, and how is it different from a list?**\n",
        ">A string is a sequence of characters enclosed in quotes.\n",
        "Strings are immutable, while lists can be modified.\n",
        "Example: `\"hello\"` vs `['h', 'e', 'l', 'l', 'o']`.\n",
        "\n",
        "---\n",
        "\n",
        "**7. How do tuples ensure data integrity in Python?**\n",
        ">Tuples are immutable, which means their data cannot be altered.\n",
        "This ensures the contents remain constant, helping preserve data accuracy.\n",
        "Used when fixed data is required.\n",
        "\n",
        "---\n",
        "\n",
        "**8. What is a hash table, and how does it relate to dictionaries in Python?**\n",
        ">A hash table maps keys to values using a hash function.\n",
        "Python dictionaries are implemented using hash tables.\n",
        "This allows for fast data access using keys.\n",
        "\n",
        "---\n",
        "\n",
        "**9. Can lists contain different data types in Python?**\n",
        ">Yes, Python lists can hold elements of different types.\n",
        "Example: `[1, \"hello\", 3.5, True]` is valid.\n",
        "This flexibility is a key feature of Python lists.\n",
        "\n",
        "---\n",
        "\n",
        "**10. Explain why strings are immutable in Python.**\n",
        ">Strings are immutable to ensure memory efficiency and security.\n",
        "Changing a string creates a new object in memory.\n",
        "This design improves performance in many use cases.\n",
        "\n",
        "---\n",
        "\n",
        "**11. What advantages do dictionaries offer over lists for certain tasks?**\n",
        ">Dictionaries provide fast lookups using keys, unlike lists which require searching.\n",
        "They are ideal for tasks like storing user profiles or configurations.\n",
        "Lists are better when order matters and no key-value structure is needed.\n",
        "\n",
        "---\n",
        "\n",
        "**12. Describe a scenario where using a tuple would be preferable over a list.**\n",
        ">Use tuples when you want fixed data that shouldn't change, like (latitude, longitude).\n",
        "They're also faster and can be dictionary keys.\n",
        "Example: storing coordinates or RGB values.\n",
        "\n",
        "---\n",
        "\n",
        "**13. How do sets handle duplicate values in Python?**\n",
        ">Sets automatically eliminate duplicate values.\n",
        "Adding a duplicate has no effect.\n",
        "Example: `set([1, 2, 2, 3])` becomes `{1, 2, 3}`.\n",
        "\n",
        "---\n",
        "\n",
        "**14. How does the “in” keyword work differently for lists and dictionaries?**\n",
        ">In lists, `in` checks for values.\n",
        "In dictionaries, `in` checks for keys by default.\n",
        "Example: `\"a\" in [1, \"a\"]` → True; `\"key\" in {\"key\": 1}` → True.\n",
        "\n",
        "---\n",
        "\n",
        "**15. Can you modify the elements of a tuple? Explain why or why not.**\n",
        ">No, tuples are immutable—you can't change, add, or remove elements after creation.\n",
        "Attempting to do so raises an error.\n",
        "Use tuples when you want data to remain constant.\n",
        "\n",
        "---\n",
        "\n",
        "**16. What is a nested dictionary, and give an example of its use case.**\n",
        ">A nested dictionary contains dictionaries within a dictionary.\n",
        "Used for representing complex data structures like JSON.\n",
        "Example: `{\"user\": {\"name\": \"Alex\", \"age\": 25}}`\n",
        "\n",
        "---\n",
        "\n",
        "**17. Describe the time complexity of accessing elements in a dictionary.**\n",
        ">Accessing dictionary elements has average time complexity **O(1)**.\n",
        "This is due to hash-based lookups.\n",
        "However, worst-case time can be **O(n)** in rare hash collision scenarios.\n",
        "\n",
        "---\n",
        "\n",
        "**18. In what situations are lists preferred over dictionaries?**\n",
        ">Lists are better when order matters or when items don’t need a unique key.\n",
        "Good for sequences, queues, or stacks.\n",
        "Dictionaries are ideal for quick lookups with identifiable keys.\n",
        "\n",
        "---\n",
        "\n",
        "**19. Why are dictionaries considered unordered, and how does that affect data retrieval?**\n",
        ">Before Python 3.7, dictionaries didn’t preserve insertion order.\n",
        "Now they do, but they're still accessed by key, not position.\n",
        "Order doesn't affect retrieval time since access is via hashing.\n",
        "\n",
        "---\n",
        "\n",
        "**20. Explain the difference between a list and a dictionary in terms of data retrieval.**\n",
        ">Lists retrieve data by index (e.g., `list[0]`), while dictionaries use keys (e.g., `dict[\"name\"]`).\n",
        "List retrieval is slower when searching for values.\n",
        "Dictionaries allow direct access using keys for faster lookups.\n",
        "\n"
      ],
      "metadata": {
        "id": "G9w2UDCw2wL3"
      }
    },
    {
      "cell_type": "code",
      "source": [
        "#1)Write a code to create a string with your name and print it.\n",
        "\n",
        "name = \"Lekhani Tarone\"\n",
        "print(name)\n"
      ],
      "metadata": {
        "colab": {
          "base_uri": "https://localhost:8080/"
        },
        "id": "vZCCm3k85a9w",
        "outputId": "7bdc623b-3c38-49e3-9270-d400d59fb6be"
      },
      "execution_count": 2,
      "outputs": [
        {
          "output_type": "stream",
          "name": "stdout",
          "text": [
            "Lekhani Tarone\n"
          ]
        }
      ]
    },
    {
      "cell_type": "code",
      "source": [
        "#2. Write a code to find the length of the string \"Hello World\".\n",
        "\n",
        "text = \"Hello World\"\n",
        "print(len(text))"
      ],
      "metadata": {
        "colab": {
          "base_uri": "https://localhost:8080/"
        },
        "id": "VIZ_XBTV5y15",
        "outputId": "af3e66bf-b0ac-451a-b85c-a7a0242ab684"
      },
      "execution_count": 3,
      "outputs": [
        {
          "output_type": "stream",
          "name": "stdout",
          "text": [
            "11\n"
          ]
        }
      ]
    },
    {
      "cell_type": "code",
      "source": [
        "#3) Write a code to slice the first 3 characters from the string \"Python Programming\".\n",
        "text = \"Python Programming\"\n",
        "print(text[:3])\n"
      ],
      "metadata": {
        "colab": {
          "base_uri": "https://localhost:8080/"
        },
        "id": "gmKQmzWa6AZV",
        "outputId": "bd67f213-7b86-4729-daaf-6478efc79256"
      },
      "execution_count": 4,
      "outputs": [
        {
          "output_type": "stream",
          "name": "stdout",
          "text": [
            "Pyt\n"
          ]
        }
      ]
    },
    {
      "cell_type": "code",
      "source": [
        "#4) Write a code to convert the string \"hello\" to uppercase.\n",
        "text = \"hello\"\n",
        "print(text.upper())\n"
      ],
      "metadata": {
        "colab": {
          "base_uri": "https://localhost:8080/"
        },
        "id": "bD4QijqT6H0c",
        "outputId": "2e886c2b-da18-416b-edcd-92fc754b8b65"
      },
      "execution_count": 5,
      "outputs": [
        {
          "output_type": "stream",
          "name": "stdout",
          "text": [
            "HELLO\n"
          ]
        }
      ]
    },
    {
      "cell_type": "code",
      "source": [
        "#5) Write a code to replace the word \"apple\" with \"orange\" in the string \"I like apple\".\n",
        "text = \"I like apple\"\n",
        "new_text = text.replace(\"apple\", \"orange\")\n",
        "print(new_text)\n"
      ],
      "metadata": {
        "colab": {
          "base_uri": "https://localhost:8080/"
        },
        "id": "Iegvs1TN6SQ8",
        "outputId": "33c0371a-5139-4feb-8d96-68e8be085565"
      },
      "execution_count": 6,
      "outputs": [
        {
          "output_type": "stream",
          "name": "stdout",
          "text": [
            "I like orange\n"
          ]
        }
      ]
    },
    {
      "cell_type": "code",
      "source": [
        "#6)Write a code to create a list with numbers 1 to 5 and print it.\n",
        "numbers = [1, 2, 3, 4, 5]\n",
        "print(numbers)\n"
      ],
      "metadata": {
        "colab": {
          "base_uri": "https://localhost:8080/"
        },
        "id": "mN04_iWT6fHm",
        "outputId": "95c3c310-2a48-4ead-ad04-4d15f608bb46"
      },
      "execution_count": 7,
      "outputs": [
        {
          "output_type": "stream",
          "name": "stdout",
          "text": [
            "[1, 2, 3, 4, 5]\n"
          ]
        }
      ]
    },
    {
      "cell_type": "code",
      "source": [
        "#7)Write a code to append the number 10 to the list [1, 2, 3, 4].\n",
        "my_list = [1, 2, 3, 4]\n",
        "my_list.append(10)\n",
        "print(my_list)\n"
      ],
      "metadata": {
        "colab": {
          "base_uri": "https://localhost:8080/"
        },
        "id": "pSeu5GKW6tWi",
        "outputId": "e0a9f955-d2cb-4bb9-cabb-71d246da4eb8"
      },
      "execution_count": 8,
      "outputs": [
        {
          "output_type": "stream",
          "name": "stdout",
          "text": [
            "[1, 2, 3, 4, 10]\n"
          ]
        }
      ]
    },
    {
      "cell_type": "code",
      "source": [
        "#8)Write a code to remove the number 3 from the list [1, 2, 3, 4, 5]\n",
        "my_list = [1, 2, 3, 4, 5]\n",
        "my_list.remove(3)\n",
        "print(my_list)\n"
      ],
      "metadata": {
        "colab": {
          "base_uri": "https://localhost:8080/"
        },
        "id": "0-zWLJEZ63Pa",
        "outputId": "3d788a77-14b0-4e8e-b8c5-81a959af3ec2"
      },
      "execution_count": 9,
      "outputs": [
        {
          "output_type": "stream",
          "name": "stdout",
          "text": [
            "[1, 2, 4, 5]\n"
          ]
        }
      ]
    },
    {
      "cell_type": "code",
      "source": [
        "#9)Write a code to access the second element in the list ['a', 'b', 'c', 'd'].\n",
        "my_list = ['a', 'b', 'c', 'd']\n",
        "print(my_list[1])  # Index starts at 0\n"
      ],
      "metadata": {
        "colab": {
          "base_uri": "https://localhost:8080/"
        },
        "id": "cqDJ6ugd7Hjf",
        "outputId": "30205be3-67d3-435f-d4c6-fb77c7a9a2cb"
      },
      "execution_count": 10,
      "outputs": [
        {
          "output_type": "stream",
          "name": "stdout",
          "text": [
            "b\n"
          ]
        }
      ]
    },
    {
      "cell_type": "code",
      "source": [
        "#10)Write a code to reverse the list [10, 20, 30, 40, 50].\n",
        "my_list = [10, 20, 30, 40, 50]\n",
        "my_list.reverse()\n",
        "print(my_list)\n"
      ],
      "metadata": {
        "colab": {
          "base_uri": "https://localhost:8080/"
        },
        "id": "45PQnep77TGR",
        "outputId": "ea035030-d120-4f21-ba20-274aef069f7a"
      },
      "execution_count": 11,
      "outputs": [
        {
          "output_type": "stream",
          "name": "stdout",
          "text": [
            "[50, 40, 30, 20, 10]\n"
          ]
        }
      ]
    },
    {
      "cell_type": "code",
      "source": [
        "#11). Write a code to create a tuple with the elements 100, 200, 300 and print it.\n",
        "my_tuple = (100, 200, 300)\n",
        "print(my_tuple)\n"
      ],
      "metadata": {
        "colab": {
          "base_uri": "https://localhost:8080/"
        },
        "id": "f34UnuGq7a28",
        "outputId": "c898e5ff-2de0-47eb-ff5a-ee1f4ba52075"
      },
      "execution_count": 12,
      "outputs": [
        {
          "output_type": "stream",
          "name": "stdout",
          "text": [
            "(100, 200, 300)\n"
          ]
        }
      ]
    },
    {
      "cell_type": "code",
      "source": [
        "#12)Write a code to access the second-to-last element of the tuple ('red', 'green', 'blue', 'yellow').\n",
        "colors = ('red', 'green', 'blue', 'yellow')\n",
        "print(colors[-2])  # Second-to-last element\n"
      ],
      "metadata": {
        "colab": {
          "base_uri": "https://localhost:8080/"
        },
        "id": "AJKSAlxY7uIi",
        "outputId": "7a9d2eed-4c32-477f-ea72-66064ee6b66a"
      },
      "execution_count": 13,
      "outputs": [
        {
          "output_type": "stream",
          "name": "stdout",
          "text": [
            "blue\n"
          ]
        }
      ]
    },
    {
      "cell_type": "code",
      "source": [
        "#13)Write a code to find the minimum number in the tuple (10, 20, 5, 15).\n",
        "numbers = (10, 20, 5, 15)\n",
        "print(min(numbers))\n",
        "\n"
      ],
      "metadata": {
        "colab": {
          "base_uri": "https://localhost:8080/"
        },
        "id": "Po-J98tZ73oG",
        "outputId": "e0b2855d-7bd6-40c8-d6fa-98cf8484deb0"
      },
      "execution_count": 14,
      "outputs": [
        {
          "output_type": "stream",
          "name": "stdout",
          "text": [
            "5\n"
          ]
        }
      ]
    },
    {
      "cell_type": "code",
      "source": [
        "#14)Write a code to find the index of the element \"cat\" in the tuple ('dog', 'cat', 'rabbit').\n",
        "animals = ('dog', 'cat', 'rabbit')\n",
        "print(animals.index(\"cat\"))\n"
      ],
      "metadata": {
        "colab": {
          "base_uri": "https://localhost:8080/"
        },
        "id": "BjCedYAe8BSJ",
        "outputId": "bde501ed-e529-48ac-be0d-56d6844fd1a9"
      },
      "execution_count": 15,
      "outputs": [
        {
          "output_type": "stream",
          "name": "stdout",
          "text": [
            "1\n"
          ]
        }
      ]
    },
    {
      "cell_type": "code",
      "source": [
        "#15)Write a code to create a tuple containing three different fruits and check if \"kiwi\" is in it.\n",
        "fruits = (\"apple\", \"banana\", \"kiwi\")\n",
        "print(\"kiwi\" in fruits)  # Will print True\n"
      ],
      "metadata": {
        "colab": {
          "base_uri": "https://localhost:8080/"
        },
        "id": "Xa_PMX8E8KIB",
        "outputId": "c90f6caf-272b-4e6b-972c-6fc7dcbf7df1"
      },
      "execution_count": 16,
      "outputs": [
        {
          "output_type": "stream",
          "name": "stdout",
          "text": [
            "True\n"
          ]
        }
      ]
    },
    {
      "cell_type": "code",
      "source": [
        "#16)Write a code to create a set with the elements 'a', 'b', 'c' and print it.\n",
        "my_set = {'a', 'b', 'c'}\n",
        "print(my_set)\n"
      ],
      "metadata": {
        "colab": {
          "base_uri": "https://localhost:8080/"
        },
        "id": "fsylDHaL8Q1s",
        "outputId": "fad9d3e7-f2d0-4f40-c277-9179bc9ba604"
      },
      "execution_count": 17,
      "outputs": [
        {
          "output_type": "stream",
          "name": "stdout",
          "text": [
            "{'b', 'a', 'c'}\n"
          ]
        }
      ]
    },
    {
      "cell_type": "code",
      "source": [
        "#17)Write a code to clear all elements from the set {1, 2, 3, 4, 5}.\n",
        "my_set = {1, 2, 3, 4, 5}\n",
        "my_set.clear()\n",
        "print(my_set)  # Prints: set()\n"
      ],
      "metadata": {
        "colab": {
          "base_uri": "https://localhost:8080/"
        },
        "id": "Dtv1KFvK8ZMl",
        "outputId": "a5db04c4-a45e-4988-b8bd-3aeaea2581b5"
      },
      "execution_count": 18,
      "outputs": [
        {
          "output_type": "stream",
          "name": "stdout",
          "text": [
            "set()\n"
          ]
        }
      ]
    },
    {
      "cell_type": "code",
      "source": [
        "#18)Write a code to remove the element 4 from the set {1, 2, 3, 4}.\n",
        "my_set = {1, 2, 3, 4}\n",
        "my_set.remove(4)\n",
        "print(my_set)\n"
      ],
      "metadata": {
        "colab": {
          "base_uri": "https://localhost:8080/"
        },
        "id": "nEsSM6WD8gNl",
        "outputId": "fd34c76d-9b3c-4056-f868-40f1054a3798"
      },
      "execution_count": 19,
      "outputs": [
        {
          "output_type": "stream",
          "name": "stdout",
          "text": [
            "{1, 2, 3}\n"
          ]
        }
      ]
    },
    {
      "cell_type": "code",
      "source": [
        "#19)Write a code to find the union of two sets {1, 2, 3} and {3, 4, 5}.\n",
        "set1 = {1, 2, 3}\n",
        "set2 = {3, 4, 5}\n",
        "union_set = set1.union(set2)\n",
        "print(union_set)\n"
      ],
      "metadata": {
        "colab": {
          "base_uri": "https://localhost:8080/"
        },
        "id": "LdFhAt2u8pY2",
        "outputId": "7d179cfd-c3a3-4ea5-e6c1-f57cc6f1ebe5"
      },
      "execution_count": 20,
      "outputs": [
        {
          "output_type": "stream",
          "name": "stdout",
          "text": [
            "{1, 2, 3, 4, 5}\n"
          ]
        }
      ]
    },
    {
      "cell_type": "code",
      "source": [
        "#20)Write a code to find the intersection of two sets {1, 2, 3} and {2, 3, 4}\n",
        "set1 = {1, 2, 3}\n",
        "set2 = {2, 3, 4}\n",
        "intersection_set = set1.intersection(set2)\n",
        "print(intersection_set)\n"
      ],
      "metadata": {
        "colab": {
          "base_uri": "https://localhost:8080/"
        },
        "id": "TsptUwFz8vE6",
        "outputId": "118f093a-09ac-4fad-91db-f79e7e2a965b"
      },
      "execution_count": 21,
      "outputs": [
        {
          "output_type": "stream",
          "name": "stdout",
          "text": [
            "{2, 3}\n"
          ]
        }
      ]
    },
    {
      "cell_type": "code",
      "source": [
        "#21)Write a code to create a dictionary with the keys \"name\", \"age\", and \"city\", and print it.\n",
        "person = {\"name\": \"John\", \"age\": 28, \"city\": \"New York\"}\n",
        "print(person)\n"
      ],
      "metadata": {
        "colab": {
          "base_uri": "https://localhost:8080/"
        },
        "id": "jkVcHuYv83gS",
        "outputId": "aedeffb6-e2e8-4eba-bbc6-4bb459415c49"
      },
      "execution_count": 22,
      "outputs": [
        {
          "output_type": "stream",
          "name": "stdout",
          "text": [
            "{'name': 'John', 'age': 28, 'city': 'New York'}\n"
          ]
        }
      ]
    },
    {
      "cell_type": "code",
      "source": [
        "#22)Write a code to add a new key-value pair \"country\": \"USA\" to the dictionary {'name': 'John', 'age': 25}.\n",
        "person = {'name': 'John', 'age': 25}\n",
        "person['country'] = 'USA'\n",
        "print(person)"
      ],
      "metadata": {
        "colab": {
          "base_uri": "https://localhost:8080/"
        },
        "id": "7hn03VK99Em3",
        "outputId": "22e1e0ec-7f95-4362-c30c-9d69efa4cdd0"
      },
      "execution_count": 23,
      "outputs": [
        {
          "output_type": "stream",
          "name": "stdout",
          "text": [
            "{'name': 'John', 'age': 25, 'country': 'USA'}\n"
          ]
        }
      ]
    },
    {
      "cell_type": "code",
      "source": [
        "#23)Write a code to access the value associated with the key \"name\" in the dictionary {'name': 'Alice', 'age': 30}.\n",
        "info = {'name': 'Alice', 'age': 30}\n",
        "print(info[\"name\"])\n"
      ],
      "metadata": {
        "colab": {
          "base_uri": "https://localhost:8080/"
        },
        "id": "wV3oiAmf9LMe",
        "outputId": "15ed8677-c0ea-4e18-baf9-043ef271f0c1"
      },
      "execution_count": 24,
      "outputs": [
        {
          "output_type": "stream",
          "name": "stdout",
          "text": [
            "Alice\n"
          ]
        }
      ]
    },
    {
      "cell_type": "code",
      "source": [
        "#24)Write a code to remove the key \"age\" from the dictionary {'name': 'Bob', 'age': 22, 'city': 'New York'}.\n",
        "data = {'name': 'Bob', 'age': 22, 'city': 'New York'}\n",
        "del data[\"age\"]\n",
        "print(data)\n"
      ],
      "metadata": {
        "colab": {
          "base_uri": "https://localhost:8080/"
        },
        "id": "VbU-5oSe9Rvx",
        "outputId": "b1a042a3-c8d5-4a6e-f043-910cd01531c3"
      },
      "execution_count": 25,
      "outputs": [
        {
          "output_type": "stream",
          "name": "stdout",
          "text": [
            "{'name': 'Bob', 'city': 'New York'}\n"
          ]
        }
      ]
    },
    {
      "cell_type": "code",
      "source": [
        "#25)Write a code to check if the key \"city\" exists in the dictionary {'name': 'Alice', 'city': 'Paris'}.\n",
        "info = {'name': 'Alice', 'city': 'Paris'}\n",
        "print(\"city\" in info)  # Output: True\n",
        "\n"
      ],
      "metadata": {
        "colab": {
          "base_uri": "https://localhost:8080/"
        },
        "id": "QKy17dOU9W5L",
        "outputId": "4d82377a-9814-42f5-d493-2a705d21883f"
      },
      "execution_count": 26,
      "outputs": [
        {
          "output_type": "stream",
          "name": "stdout",
          "text": [
            "True\n"
          ]
        }
      ]
    },
    {
      "cell_type": "code",
      "source": [
        "#26)Write a code to create a list, a tuple, and a dictionary, and print them all\n",
        "my_list = [1, 2, 3]\n",
        "my_tuple = (4, 5, 6)\n",
        "my_dict = {\"a\": 1, \"b\": 2}\n",
        "print(\"List:\", my_list)\n",
        "print(\"Tuple:\", my_tuple)\n",
        "print(\"Dictionary:\", my_dict)\n"
      ],
      "metadata": {
        "colab": {
          "base_uri": "https://localhost:8080/"
        },
        "id": "kbb_dAq39deU",
        "outputId": "321f53c8-2e06-4061-afec-5ffe3bb529af"
      },
      "execution_count": 27,
      "outputs": [
        {
          "output_type": "stream",
          "name": "stdout",
          "text": [
            "List: [1, 2, 3]\n",
            "Tuple: (4, 5, 6)\n",
            "Dictionary: {'a': 1, 'b': 2}\n"
          ]
        }
      ]
    },
    {
      "cell_type": "code",
      "source": [
        "#27)Write a code to create a list of 5 random numbers between 1 and 100, sort it in ascending order, and print the result.\n",
        "import random\n",
        "numbers = random.sample(range(1, 101), 5)\n",
        "numbers.sort()\n",
        "print(\"Sorted random numbers:\", numbers)\n"
      ],
      "metadata": {
        "colab": {
          "base_uri": "https://localhost:8080/"
        },
        "id": "mEn_Zjpk9jHh",
        "outputId": "88573a0a-3ace-476c-8464-31857495b794"
      },
      "execution_count": 28,
      "outputs": [
        {
          "output_type": "stream",
          "name": "stdout",
          "text": [
            "Sorted random numbers: [27, 42, 48, 65, 96]\n"
          ]
        }
      ]
    },
    {
      "cell_type": "code",
      "source": [
        "#28)Write a code to create a list with strings and print the element at the third index.\n",
        "words = [\"apple\", \"banana\", \"cherry\", \"date\", \"elderberry\"]\n",
        "print(\"Element at index 3:\", words[3])\n"
      ],
      "metadata": {
        "colab": {
          "base_uri": "https://localhost:8080/"
        },
        "id": "AiaP6anq9ycS",
        "outputId": "f3e8ddf5-95b6-41ac-b499-ec97f2059dd7"
      },
      "execution_count": 29,
      "outputs": [
        {
          "output_type": "stream",
          "name": "stdout",
          "text": [
            "Element at index 3: date\n"
          ]
        }
      ]
    },
    {
      "cell_type": "code",
      "source": [
        "#29)Write a code to combine two dictionaries into one and print the result.\n",
        "dict1 = {\"a\": 1, \"b\": 2}\n",
        "dict2 = {\"c\": 3, \"d\": 4}\n",
        "combined = {**dict1, **dict2}\n",
        "print(\"Combined dictionary:\", combined)\n"
      ],
      "metadata": {
        "colab": {
          "base_uri": "https://localhost:8080/"
        },
        "id": "abiFKnk195id",
        "outputId": "98bdf916-9279-4241-8ffc-6f05350a94b5"
      },
      "execution_count": 30,
      "outputs": [
        {
          "output_type": "stream",
          "name": "stdout",
          "text": [
            "Combined dictionary: {'a': 1, 'b': 2, 'c': 3, 'd': 4}\n"
          ]
        }
      ]
    },
    {
      "cell_type": "code",
      "source": [
        "#30)Write a code to convert a list of strings into a set.\n",
        "fruits = [\"apple\", \"banana\", \"apple\", \"mango\"]\n",
        "unique_fruits = set(fruits)\n",
        "print(\"Set from list:\", unique_fruits)\n"
      ],
      "metadata": {
        "colab": {
          "base_uri": "https://localhost:8080/"
        },
        "id": "S12oSqcM-DpI",
        "outputId": "15057e52-d9a9-4813-a293-381baffeb28a"
      },
      "execution_count": 31,
      "outputs": [
        {
          "output_type": "stream",
          "name": "stdout",
          "text": [
            "Set from list: {'mango', 'banana', 'apple'}\n"
          ]
        }
      ]
    }
  ]
}